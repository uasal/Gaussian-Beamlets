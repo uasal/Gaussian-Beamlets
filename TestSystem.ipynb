{
 "cells": [
  {
   "cell_type": "code",
   "execution_count": null,
   "metadata": {},
   "outputs": [],
   "source": [
    "\n",
    "import os\n",
    "os.environ['NUMEXPR_MAX_THREADS'] = '40'\n",
    "os.environ['NUMEXPR_NUM_THREADS'] = '40'\n",
    "import logging\n",
    "logging.basicConfig()\n",
    "logging.getLogger('glets').setLevel(logging.INFO)\n",
    "logging.debug(\"test\")"
   ]
  },
  {
   "cell_type": "code",
   "execution_count": null,
   "metadata": {
    "scrolled": true
   },
   "outputs": [],
   "source": [
    "\n",
    "import glets\n",
    "import logging\n",
    "\n",
    "logging.getLogger().setLevel(logging.INFO)\n",
    "import importlib\n",
    "import numpy as np\n",
    "\n",
    "import matplotlib.pyplot as plt\n",
    "#get_ipython().run_cell_magic('bash', '', \"cat /proc/cpuinfo | grep 'model name' | uniq\\ncat /proc/cpuinfo | grep 'cpu family' | uniq\\n lscpu | grep 'Model:' | uniq\\n lscpu | egrep '^Thread|^Core|^Socket|^CPU\\\\('\\n\")"
   ]
  },
  {
   "cell_type": "code",
   "execution_count": null,
   "metadata": {
    "scrolled": false
   },
   "outputs": [],
   "source": [
    "importlib.reload(glets)\n",
    "gwfr = glets.Rayfront(wavelength=2.2e-6,size=5e-4,\n",
    "                samplescheme='fibbonacci')\n",
    "osys = glets.GaubletOpticalSystem(epd=5e-4,dimd=4e-4,npix=512)\n",
    "osys.add_aperture(shape='lyot',diameter=5e-4)\n",
    "osys.add_optic(efl=5e-3)\n",
    "osys.add_distance(distance=5e-3,index=1)\n",
    "#osys.add_aperture(shape='fpm',diameter=2.5e-4)\n",
    "osys.add_detector()\n",
    "%time gwfr.propogate(elements=osys.elements)"
   ]
  },
  {
   "cell_type": "code",
   "execution_count": null,
   "metadata": {},
   "outputs": [],
   "source": [
    "\n",
    "# Set up figure\n",
    "plt.figure(figsize=[7,7])\n",
    "plt.imshow(np.log(np.abs(gwfr.Ephase)))\n",
    "plt.colorbar()\n",
    "plt.show()\n",
    "\n",
    "# Lyot stop needs to be shifted on-axis\n",
    "# it's the same index responsible for both lists (y >= 0, x >= 0)"
   ]
  },
  {
   "cell_type": "code",
   "execution_count": null,
   "metadata": {},
   "outputs": [],
   "source": [
    "%time gwfr.propogate(elements=osys.elements)"
   ]
  },
  {
   "cell_type": "code",
   "execution_count": null,
   "metadata": {},
   "outputs": [],
   "source": [
    "%prun gwfr.propogate(elements=osys.elements)"
   ]
  },
  {
   "cell_type": "code",
   "execution_count": null,
   "metadata": {},
   "outputs": [],
   "source": [
    "import numexpr as ne\n",
    "import numpy as np\n",
    "import numba \n",
    "np.__file__,ne.__file__, numba.__file__"
   ]
  },
  {
   "cell_type": "code",
   "execution_count": null,
   "metadata": {},
   "outputs": [],
   "source": [
    "import numpy as np\n",
    "z=np.ones([512,512,2000])+np.pi*1j\n"
   ]
  },
  {
   "cell_type": "code",
   "execution_count": null,
   "metadata": {},
   "outputs": [],
   "source": [
    "import numba\n",
    "import cmath\n",
    "dtype=numba.complex128\n",
    "\n",
    "@numba.vectorize([dtype(dtype)],\n",
    "                 target=\"parallel\")\n",
    "def numba_exp(x):\n",
    "        return cmath.exp(x)\n",
    "    \n",
    "\n",
    "@numba.vectorize([dtype(dtype)],\n",
    "                 target=\"cuda\")\n",
    "def gpu_numba_exp(x):\n",
    "        return cmath.exp(x)"
   ]
  },
  {
   "cell_type": "code",
   "execution_count": null,
   "metadata": {},
   "outputs": [],
   "source": [
    "%time ez = poppy.accel_math._exp(z)\n",
    "%time eznp = np.exp(z)\n",
    "%time ez = ne.evaluate(\"exp(z)\")"
   ]
  },
  {
   "cell_type": "code",
   "execution_count": null,
   "metadata": {},
   "outputs": [],
   "source": [
    "%time nez=numba_exp(z)"
   ]
  },
  {
   "cell_type": "code",
   "execution_count": null,
   "metadata": {},
   "outputs": [],
   "source": []
  },
  {
   "cell_type": "code",
   "execution_count": null,
   "metadata": {},
   "outputs": [],
   "source": []
  },
  {
   "cell_type": "code",
   "execution_count": null,
   "metadata": {},
   "outputs": [],
   "source": []
  },
  {
   "cell_type": "code",
   "execution_count": null,
   "metadata": {},
   "outputs": [],
   "source": [
    "try:\n",
    "    get_ipython().run_cell_magic('bash', '', 'nvidia-smi\\n')\n",
    "\n",
    "except Exception as err:\n",
    "    print(err)\n"
   ]
  },
  {
   "cell_type": "code",
   "execution_count": null,
   "metadata": {},
   "outputs": [],
   "source": []
  }
 ],
 "metadata": {
  "kernelspec": {
   "display_name": "astroconda",
   "language": "python",
   "name": "astroconda"
  },
  "language_info": {
   "codemirror_mode": {
    "name": "ipython",
    "version": 3
   },
   "file_extension": ".py",
   "mimetype": "text/x-python",
   "name": "python",
   "nbconvert_exporter": "python",
   "pygments_lexer": "ipython3",
   "version": "3.7.7"
  }
 },
 "nbformat": 4,
 "nbformat_minor": 4
}
